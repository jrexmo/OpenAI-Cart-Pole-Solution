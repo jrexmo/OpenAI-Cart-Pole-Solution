{
 "cells": [
  {
   "cell_type": "markdown",
   "metadata": {},
   "source": [
    "# The following is my implementation of Q-learning to Open AI's Cartpole enviornment!"
   ]
  },
  {
   "cell_type": "code",
   "execution_count": 17,
   "metadata": {},
   "outputs": [],
   "source": [
    "import gym\n",
    "import numpy as np\n",
    "from matplotlib import pyplot as plt\n",
    "from scipy.ndimage.filters import gaussian_filter1d\n",
    "\n",
    "env = gym.make('CartPole-v0')"
   ]
  },
  {
   "cell_type": "markdown",
   "metadata": {},
   "source": [
    "Here we chunk the enviornment up so that we can actually have a Q table of finite size:"
   ]
  },
  {
   "cell_type": "code",
   "execution_count": 18,
   "metadata": {},
   "outputs": [],
   "source": [
    "\n",
    "k1, k2, k3, k4 = 1, 7, 3, 4\n",
    "xBuckets = np.linspace(-.2, .2, k1)\n",
    "vBuckets = np.linspace(-1.5,1.5, k1)\n",
    "tBuckets = np.linspace(-.2, .2, k3)\n",
    "wBuckets = np.linspace(-2,2, k4)\n",
    "\n",
    "def toStateSpace(state):\n",
    "    l = state.tolist()\n",
    "    s = [0,0,0,0]\n",
    "    s[0] = int(np.argmin(abs(xBuckets - l[0])))\n",
    "    s[1] = int(np.argmin(abs(vBuckets - l[1])))\n",
    "    s[2] = int(np.argmin(abs(tBuckets - l[2])))\n",
    "    s[3] = int(np.argmin(abs(wBuckets - l[3])))\n",
    "    \n",
    "    return(s)\n"
   ]
  },
  {
   "cell_type": "markdown",
   "metadata": {},
   "source": [
    "We also need to define our learning parameters:"
   ]
  },
  {
   "cell_type": "code",
   "execution_count": 19,
   "metadata": {},
   "outputs": [],
   "source": [
    "p =  1 # Initial probability of a random action\n",
    "epsilon = .995 #Decay rate for random action probability\n",
    "alpha = .001 #learning rate\n",
    "y = .9 #discounting factor, how heavily we will "
   ]
  },
  {
   "cell_type": "markdown",
   "metadata": {},
   "source": [
    "Here is the main loop. Our agent will start off choosing actions randomly and be rewarded for staying alive. It will adapt to choose the action that maximizes its chance of being rewarded further. Explicitly, the Q-table is updated according to the following:\n",
    "$$Q(S, A) = Q(S, A) + \\alpha(R + \\gamma max_{A}(Q(S', A)) - Q(S, A))) $$\n",
    "This can be see in the code below."
   ]
  },
  {
   "cell_type": "code",
   "execution_count": 20,
   "metadata": {},
   "outputs": [
    {
     "name": "stdout",
     "output_type": "stream",
     "text": [
      "Score over time:171.8854\n",
      "Finished on trial number:  184\n",
      "max: 199.0\n"
     ]
    }
   ],
   "source": [
    "Q = np.zeros((k1, k2, k3, k4, 2))\n",
    "num_episodes = 5000\n",
    "rList = []\n",
    "for i in range(num_episodes):\n",
    "    s = env.reset()\n",
    "    s = toStateSpace(s)\n",
    "    rAll = 0\n",
    "    done = False\n",
    "    j = 0\n",
    "    while j < 199:\n",
    "        j+=1\n",
    "        #Toggle this to see the render every 50 iterations\n",
    "        #if(i%50 ==0):\n",
    "            #env.render()\n",
    "        delta = np.random.binomial(1, p*(epsilon**i))\n",
    "        if(delta == 0):\n",
    "            a = np.argmax(Q[s[0], s[1], s[2], s[3], :])\n",
    "        else:\n",
    "            a = env.action_space.sample()\n",
    "        ns,r,done,_ = env.step(a)\n",
    "        ns = toStateSpace(ns)\n",
    "        Q[s[0], s[1], s[2], s[3], a] += alpha*(r + y*np.max(Q[ns[0], ns[1], ns[2], \n",
    "                                                              ns[3],:]) - Q[s[0], s[1], s[2], s[3],a])\n",
    "        rAll += r\n",
    "        s = ns\n",
    "        if done == True:\n",
    "            break\n",
    "        \n",
    "    rList.append(rAll)\n",
    "\n",
    "print(\"Score over time:\" +  str(sum(rList)/num_episodes))\n",
    "print(\"Finished on trial number: \", np.argmax(rList))\n",
    "print('max:', max(rList))"
   ]
  },
  {
   "cell_type": "markdown",
   "metadata": {},
   "source": [
    "So, as you can see this allows our agent to learn the game after about $200$ or so trials. We can visualize the results below:"
   ]
  },
  {
   "cell_type": "code",
   "execution_count": 21,
   "metadata": {},
   "outputs": [
    {
     "data": {
      "image/png": "[encoded data removed]",
      "text/plain": [
       "<Figure size 432x288 with 1 Axes>"
      ]
     },
     "metadata": {},
     "output_type": "display_data"
    }
   ],
   "source": [
    "rSmoothed = gaussian_filter1d(rList, sigma=30)\n",
    "plt.plot(range(num_episodes), rSmoothed)\n",
    "plt.xlabel('Iteration')\n",
    "plt.ylabel('Steps Taken Before Failure')\n",
    "plt.show()"
   ]
  },
  {
   "cell_type": "code",
   "execution_count": null,
   "metadata": {},
   "outputs": [],
   "source": []
  }
 ],
 "metadata": {
  "kernelspec": {
   "display_name": "Python 3",
   "language": "python",
   "name": "python3"
  },
  "language_info": {
   "codemirror_mode": {
    "name": "ipython",
    "version": 3
   },
   "file_extension": ".py",
   "mimetype": "text/x-python",
   "name": "python",
   "nbconvert_exporter": "python",
   "pygments_lexer": "ipython3",
   "version": "3.6.8"
  }
 },
 "nbformat": 4,
 "nbformat_minor": 2
}
